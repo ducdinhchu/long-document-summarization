{
  "cells": [
    {
      "cell_type": "markdown",
      "id": "254d2cb3",
      "metadata": {
        "papermill": {
          "duration": 0.008012,
          "end_time": "2023-07-27T07:30:55.674992",
          "exception": false,
          "start_time": "2023-07-27T07:30:55.666980",
          "status": "completed"
        },
        "tags": [],
        "id": "254d2cb3"
      },
      "source": [
        "# Training"
      ]
    },
    {
      "cell_type": "code",
      "execution_count": null,
      "id": "f79b690a",
      "metadata": {
        "execution": {
          "iopub.execute_input": "2023-07-27T07:30:55.693080Z",
          "iopub.status.busy": "2023-07-27T07:30:55.692031Z",
          "iopub.status.idle": "2023-07-27T07:31:19.762678Z",
          "shell.execute_reply": "2023-07-27T07:31:19.761390Z"
        },
        "papermill": {
          "duration": 24.082354,
          "end_time": "2023-07-27T07:31:19.765167",
          "exception": false,
          "start_time": "2023-07-27T07:30:55.682813",
          "status": "completed"
        },
        "tags": [],
        "id": "f79b690a"
      },
      "outputs": [],
      "source": [
        "!pip install -q transformers==4.28.0 datasets rouge_score"
      ]
    },
    {
      "cell_type": "code",
      "execution_count": null,
      "id": "9f300b70",
      "metadata": {
        "execution": {
          "iopub.execute_input": "2023-07-27T07:31:19.782564Z",
          "iopub.status.busy": "2023-07-27T07:31:19.782213Z",
          "iopub.status.idle": "2023-07-27T07:31:20.627039Z",
          "shell.execute_reply": "2023-07-27T07:31:20.626108Z"
        },
        "papermill": {
          "duration": 0.856462,
          "end_time": "2023-07-27T07:31:20.629725",
          "exception": false,
          "start_time": "2023-07-27T07:31:19.773263",
          "status": "completed"
        },
        "tags": [],
        "id": "9f300b70"
      },
      "outputs": [],
      "source": [
        "from datasets import load_dataset"
      ]
    },
    {
      "cell_type": "code",
      "execution_count": null,
      "id": "059c5693",
      "metadata": {
        "execution": {
          "iopub.execute_input": "2023-07-27T07:31:20.647249Z",
          "iopub.status.busy": "2023-07-27T07:31:20.645897Z",
          "iopub.status.idle": "2023-07-27T07:31:20.651069Z",
          "shell.execute_reply": "2023-07-27T07:31:20.650083Z"
        },
        "papermill": {
          "duration": 0.01582,
          "end_time": "2023-07-27T07:31:20.653117",
          "exception": false,
          "start_time": "2023-07-27T07:31:20.637297",
          "status": "completed"
        },
        "tags": [],
        "id": "059c5693"
      },
      "outputs": [],
      "source": [
        "json_data_files = {\n",
        "    \"train\": \"/kaggle/input/billsum-clean/us_train_clean.jsonl\",\n",
        "    \"test\": \"/kaggle/input/billsum-clean/ca_test_clean.jsonl\",\n",
        "    \"validation\": \"/kaggle/input/billsum-clean/us_test_clean.jsonl\",\n",
        "}\n",
        "\n",
        "billsum = load_dataset(\"json\", data_files=json_data_files)"
      ]
    },
    {
      "cell_type": "code",
      "execution_count": null,
      "id": "4f47355a",
      "metadata": {
        "execution": {
          "iopub.execute_input": "2023-07-27T07:31:20.669533Z",
          "iopub.status.busy": "2023-07-27T07:31:20.669185Z",
          "iopub.status.idle": "2023-07-27T07:31:20.673240Z",
          "shell.execute_reply": "2023-07-27T07:31:20.672329Z"
        },
        "papermill": {
          "duration": 0.014942,
          "end_time": "2023-07-27T07:31:20.675631",
          "exception": false,
          "start_time": "2023-07-27T07:31:20.660689",
          "status": "completed"
        },
        "tags": [],
        "id": "4f47355a"
      },
      "outputs": [],
      "source": [
        "train_dataset = billsum['train']\n",
        "valid_dataset = billsum['validation']"
      ]
    },
    {
      "cell_type": "code",
      "execution_count": null,
      "id": "092cc0b3",
      "metadata": {
        "execution": {
          "iopub.execute_input": "2023-07-27T07:31:20.692510Z",
          "iopub.status.busy": "2023-07-27T07:31:20.691862Z",
          "iopub.status.idle": "2023-07-27T07:31:22.216950Z",
          "shell.execute_reply": "2023-07-27T07:31:22.215699Z"
        },
        "papermill": {
          "duration": 1.536985,
          "end_time": "2023-07-27T07:31:22.220228",
          "exception": false,
          "start_time": "2023-07-27T07:31:20.683243",
          "status": "completed"
        },
        "tags": [],
        "id": "092cc0b3"
      },
      "outputs": [],
      "source": [
        "# Load model directly\n",
        "from transformers import AutoModel\n",
        "model = AutoModel.from_pretrained(\"allenai/longformer-base-4096\")"
      ]
    },
    {
      "cell_type": "code",
      "execution_count": null,
      "id": "3fc5fb02",
      "metadata": {
        "execution": {
          "iopub.execute_input": "2023-07-27T07:31:22.240573Z",
          "iopub.status.busy": "2023-07-27T07:31:22.239119Z",
          "iopub.status.idle": "2023-07-27T07:31:57.439011Z",
          "shell.execute_reply": "2023-07-27T07:31:57.437985Z"
        },
        "papermill": {
          "duration": 35.212244,
          "end_time": "2023-07-27T07:31:57.441242",
          "exception": false,
          "start_time": "2023-07-27T07:31:22.228998",
          "status": "completed"
        },
        "tags": [],
        "id": "3fc5fb02"
      },
      "outputs": [],
      "source": [
        "!pip install -q sumy\n",
        "\n",
        "# -*- coding: utf-8 -*-\n",
        "\n",
        "from __future__ import absolute_import\n",
        "from __future__ import division, print_function, unicode_literals\n",
        "\n",
        "from sumy.parsers.html import HtmlParser\n",
        "from sumy.parsers.plaintext import PlaintextParser\n",
        "from sumy.nlp.tokenizers import Tokenizer\n",
        "from sumy.summarizers.text_rank import TextRankSummarizer as Summarizer\n",
        "from sumy.nlp.stemmers import Stemmer\n",
        "from sumy.utils import get_stop_words\n",
        "\n",
        "import nltk\n",
        "nltk.download('punkt')"
      ]
    },
    {
      "cell_type": "code",
      "execution_count": null,
      "id": "37616b34",
      "metadata": {
        "execution": {
          "iopub.execute_input": "2023-07-27T07:31:57.459556Z",
          "iopub.status.busy": "2023-07-27T07:31:57.458518Z",
          "iopub.status.idle": "2023-07-27T07:31:57.468166Z",
          "shell.execute_reply": "2023-07-27T07:31:57.467252Z"
        },
        "papermill": {
          "duration": 0.021209,
          "end_time": "2023-07-27T07:31:57.470340",
          "exception": false,
          "start_time": "2023-07-27T07:31:57.449131",
          "status": "completed"
        },
        "tags": [],
        "id": "37616b34"
      },
      "outputs": [],
      "source": [
        "LANGUAGE = \"english\"\n",
        "SENTENCES_COUNT = 5\n",
        "\n",
        "def extractive(text):\n",
        "    top_sentence = \"\"\n",
        "    parser = PlaintextParser.from_string(text, Tokenizer(LANGUAGE))\n",
        "    stemmer = Stemmer(LANGUAGE)\n",
        "\n",
        "    summarizer = Summarizer(stemmer)\n",
        "    summarizer.stop_words = get_stop_words(LANGUAGE)\n",
        "\n",
        "    for sentence in summarizer(parser.document, SENTENCES_COUNT):\n",
        "        top_sentence += str(sentence) + \" \"\n",
        "        # print(sentence)\n",
        "\n",
        "    return top_sentence[:-1]\n",
        "\n",
        "import re\n",
        "\n",
        "def extractive_clean_text(text):\n",
        "    output = \"\"\n",
        "    positions = [m.start() for m in re.finditer('<SECTION-HEADER>', text)]\n",
        "    length = len(positions)\n",
        "    for i in range(length):\n",
        "        if i + 1 < length:\n",
        "            s = text[positions[i]:positions[i+1]]\n",
        "        else:\n",
        "            s = text[positions[i]:]\n",
        "        output += extractive(s)\n",
        "    return output"
      ]
    },
    {
      "cell_type": "code",
      "execution_count": null,
      "id": "5c21c3a0",
      "metadata": {
        "execution": {
          "iopub.execute_input": "2023-07-27T07:31:57.487253Z",
          "iopub.status.busy": "2023-07-27T07:31:57.486933Z",
          "iopub.status.idle": "2023-07-27T07:31:57.491527Z",
          "shell.execute_reply": "2023-07-27T07:31:57.490473Z"
        },
        "papermill": {
          "duration": 0.015782,
          "end_time": "2023-07-27T07:31:57.493952",
          "exception": false,
          "start_time": "2023-07-27T07:31:57.478170",
          "status": "completed"
        },
        "tags": [],
        "id": "5c21c3a0"
      },
      "outputs": [],
      "source": [
        "# length_token = []\n",
        "# for i in range(18949):\n",
        "#     output = extractive_clean_text(train_dataset[i]['clean_text'])\n",
        "#     inputs = tokenizer(output)\n",
        "#     length_token.append(len(inputs.input_ids))\n",
        "\n",
        "# import matplotlib.pyplot as plt\n",
        "\n",
        "# data = sorted(length_token)\n",
        "# plt.plot(data)\n",
        "# plt.xlabel('Index')\n",
        "# plt.ylabel('Value')\n",
        "# plt.title('Biểu đồ đường')\n",
        "# plt.show()"
      ]
    },
    {
      "cell_type": "code",
      "execution_count": null,
      "id": "513d0c57",
      "metadata": {
        "execution": {
          "iopub.execute_input": "2023-07-27T07:31:57.510740Z",
          "iopub.status.busy": "2023-07-27T07:31:57.510411Z",
          "iopub.status.idle": "2023-07-27T07:32:22.582286Z",
          "shell.execute_reply": "2023-07-27T07:32:22.581327Z"
        },
        "papermill": {
          "duration": 25.08321,
          "end_time": "2023-07-27T07:32:22.584794",
          "exception": false,
          "start_time": "2023-07-27T07:31:57.501584",
          "status": "completed"
        },
        "tags": [],
        "id": "513d0c57"
      },
      "outputs": [],
      "source": [
        "!pip install -q evaluate\n",
        "\n",
        "import evaluate\n",
        "\n",
        "rouge = evaluate.load(\"rouge\")\n",
        "\n",
        "import numpy as np\n",
        "\n",
        "def compute_metrics(eval_pred):\n",
        "    predictions, labels = eval_pred\n",
        "    decoded_preds = tokenizer.batch_decode(predictions, skip_special_tokens=True)\n",
        "    labels = np.where(labels != -100, labels, tokenizer.pad_token_id)\n",
        "    decoded_labels = tokenizer.batch_decode(labels, skip_special_tokens=True)\n",
        "\n",
        "    result = rouge.compute(predictions=decoded_preds, references=decoded_labels, use_stemmer=True)\n",
        "\n",
        "    prediction_lens = [np.count_nonzero(pred != tokenizer.pad_token_id) for pred in predictions]\n",
        "    result[\"gen_len\"] = np.mean(prediction_lens)\n",
        "\n",
        "    return {k: round(v, 4) for k, v in result.items()}"
      ]
    },
    {
      "cell_type": "code",
      "execution_count": null,
      "id": "d1c5aea8",
      "metadata": {
        "execution": {
          "iopub.execute_input": "2023-07-27T07:32:22.603034Z",
          "iopub.status.busy": "2023-07-27T07:32:22.602404Z",
          "iopub.status.idle": "2023-07-27T07:32:22.607191Z",
          "shell.execute_reply": "2023-07-27T07:32:22.606251Z"
        },
        "papermill": {
          "duration": 0.016058,
          "end_time": "2023-07-27T07:32:22.609235",
          "exception": false,
          "start_time": "2023-07-27T07:32:22.593177",
          "status": "completed"
        },
        "tags": [],
        "id": "d1c5aea8"
      },
      "outputs": [],
      "source": [
        "max_input_length = 2048\n",
        "max_output_length = 512\n",
        "batch_size = 4"
      ]
    },
    {
      "cell_type": "code",
      "execution_count": null,
      "id": "35fc8702",
      "metadata": {
        "execution": {
          "iopub.execute_input": "2023-07-27T07:32:22.626895Z",
          "iopub.status.busy": "2023-07-27T07:32:22.626591Z",
          "iopub.status.idle": "2023-07-27T07:32:22.631900Z",
          "shell.execute_reply": "2023-07-27T07:32:22.630814Z"
        },
        "papermill": {
          "duration": 0.016362,
          "end_time": "2023-07-27T07:32:22.633974",
          "exception": false,
          "start_time": "2023-07-27T07:32:22.617612",
          "status": "completed"
        },
        "tags": [],
        "id": "35fc8702"
      },
      "outputs": [],
      "source": [
        "def process_data_to_model_inputs(batch):\n",
        "    # tokenize the inputs and labels\n",
        "    inputs = tokenizer(\n",
        "        [extractive_clean_text(doc) for doc in batch[\"clean_text\"]],\n",
        "        padding=\"max_length\",\n",
        "        truncation=True,\n",
        "        max_length=max_input_length,\n",
        "    )\n",
        "    outputs = tokenizer(\n",
        "        batch[\"clean_summary\"],\n",
        "        padding=\"max_length\",\n",
        "        truncation=True,\n",
        "        max_length=max_output_length,\n",
        "    )\n",
        "\n",
        "    batch[\"input_ids\"] = inputs.input_ids\n",
        "    batch[\"attention_mask\"] = inputs.attention_mask\n",
        "\n",
        "    # create 0 global_attention_mask lists\n",
        "    batch[\"global_attention_mask\"] = len(batch[\"input_ids\"]) * [\n",
        "        [0 for _ in range(len(batch[\"input_ids\"][0]))]\n",
        "    ]\n",
        "\n",
        "    # since above lists are references, the following line changes the 0 index for all samples\n",
        "    batch[\"global_attention_mask\"][0][0] = 1\n",
        "    batch[\"labels\"] = outputs.input_ids\n",
        "\n",
        "    # We have to make sure that the PAD token is ignored\n",
        "    batch[\"labels\"] = [\n",
        "        [-100 if token == tokenizer.pad_token_id else token for token in labels]\n",
        "        for labels in batch[\"labels\"]\n",
        "    ]\n",
        "\n",
        "    return batch"
      ]
    },
    {
      "cell_type": "code",
      "execution_count": null,
      "id": "fd35150c",
      "metadata": {
        "execution": {
          "iopub.execute_input": "2023-07-27T07:32:22.651692Z",
          "iopub.status.busy": "2023-07-27T07:32:22.651344Z",
          "iopub.status.idle": "2023-07-27T07:32:22.656617Z",
          "shell.execute_reply": "2023-07-27T07:32:22.655116Z"
        },
        "papermill": {
          "duration": 0.016597,
          "end_time": "2023-07-27T07:32:22.658685",
          "exception": false,
          "start_time": "2023-07-27T07:32:22.642088",
          "status": "completed"
        },
        "tags": [],
        "id": "fd35150c"
      },
      "outputs": [],
      "source": [
        "train_dataset = train_dataset.map(\n",
        "    process_data_to_model_inputs,\n",
        "    batched=True,\n",
        "    batch_size=batch_size,\n",
        "    remove_columns=[\"bill_id\", \"text\", \"summary\", \"title\", \"text_len\", \"sum_len\", \"clean_text\", \"clean_summary\", \"clean_title\"],\n",
        ")\n",
        "\n",
        "valid_dataset = valid_dataset.map(\n",
        "    process_data_to_model_inputs,\n",
        "    batched=True,\n",
        "    batch_size=batch_size,\n",
        "    remove_columns=[\"bill_id\", \"text\", \"summary\", \"title\", \"text_len\", \"sum_len\", \"clean_text\", \"clean_summary\", \"clean_title\"],\n",
        ")"
      ]
    },
    {
      "cell_type": "code",
      "execution_count": null,
      "id": "a9604eab",
      "metadata": {
        "execution": {
          "iopub.execute_input": "2023-07-27T07:32:22.676338Z",
          "iopub.status.busy": "2023-07-27T07:32:22.676016Z",
          "iopub.status.idle": "2023-07-27T07:32:22.680170Z",
          "shell.execute_reply": "2023-07-27T07:32:22.679245Z"
        },
        "papermill": {
          "duration": 0.015696,
          "end_time": "2023-07-27T07:32:22.682374",
          "exception": false,
          "start_time": "2023-07-27T07:32:22.666678",
          "status": "completed"
        },
        "tags": [],
        "id": "a9604eab"
      },
      "outputs": [],
      "source": [
        "train_dataset.set_format(\n",
        "    type=\"torch\",\n",
        "    columns=[\"input_ids\", \"attention_mask\", \"global_attention_mask\", \"labels\"],\n",
        ")\n",
        "\n",
        "valid_dataset.set_format(\n",
        "    type=\"torch\",\n",
        "    columns=[\"input_ids\", \"attention_mask\", \"global_attention_mask\", \"labels\"],\n",
        ")"
      ]
    },
    {
      "cell_type": "code",
      "execution_count": null,
      "id": "89cd94c1",
      "metadata": {
        "execution": {
          "iopub.execute_input": "2023-07-27T07:32:22.700031Z",
          "iopub.status.busy": "2023-07-27T07:32:22.699723Z",
          "iopub.status.idle": "2023-07-27T07:32:22.703730Z",
          "shell.execute_reply": "2023-07-27T07:32:22.702798Z"
        },
        "papermill": {
          "duration": 0.015325,
          "end_time": "2023-07-27T07:32:22.705941",
          "exception": false,
          "start_time": "2023-07-27T07:32:22.690616",
          "status": "completed"
        },
        "tags": [],
        "id": "89cd94c1"
      },
      "outputs": [],
      "source": [
        "train_dataset.to_json(\"token_train_dataset.jsonl\")\n",
        "valid_dataset.to_json(\"token_valid_dataset.jsonl\")"
      ]
    },
    {
      "cell_type": "code",
      "execution_count": null,
      "id": "f3a3a72f",
      "metadata": {
        "execution": {
          "iopub.execute_input": "2023-07-27T07:32:22.723043Z",
          "iopub.status.busy": "2023-07-27T07:32:22.722753Z",
          "iopub.status.idle": "2023-07-27T07:32:42.200794Z",
          "shell.execute_reply": "2023-07-27T07:32:42.200116Z"
        },
        "papermill": {
          "duration": 19.488929,
          "end_time": "2023-07-27T07:32:42.202833",
          "exception": false,
          "start_time": "2023-07-27T07:32:22.713904",
          "status": "completed"
        },
        "tags": [],
        "id": "f3a3a72f"
      },
      "outputs": [],
      "source": [
        "json_data_files = {\n",
        "    \"train\": \"/kaggle/input/tokenlongformertextrank8/token_train_dataset_8.jsonl\",\n",
        "    \"validation\": \"/kaggle/input/tokenlongformertextrank8/token_valid_dataset_8.jsonl\",\n",
        "}\n",
        "\n",
        "billsum = load_dataset(\"json\", data_files=json_data_files)\n",
        "train_dataset = billsum['train']\n",
        "valid_dataset = billsum['validation']"
      ]
    },
    {
      "cell_type": "code",
      "execution_count": null,
      "id": "2eaf95a1",
      "metadata": {
        "execution": {
          "iopub.execute_input": "2023-07-27T07:32:42.222552Z",
          "iopub.status.busy": "2023-07-27T07:32:42.222233Z",
          "iopub.status.idle": "2023-07-27T07:32:42.226507Z",
          "shell.execute_reply": "2023-07-27T07:32:42.225480Z"
        },
        "papermill": {
          "duration": 0.016278,
          "end_time": "2023-07-27T07:32:42.228524",
          "exception": false,
          "start_time": "2023-07-27T07:32:42.212246",
          "status": "completed"
        },
        "tags": [],
        "id": "2eaf95a1"
      },
      "outputs": [],
      "source": [
        "# train_dataset = train_dataset.select(range(10))\n",
        "# valid_dataset = valid_dataset.select(range(4))"
      ]
    },
    {
      "cell_type": "code",
      "execution_count": null,
      "id": "1f617626",
      "metadata": {
        "execution": {
          "iopub.execute_input": "2023-07-27T07:32:42.247534Z",
          "iopub.status.busy": "2023-07-27T07:32:42.246893Z",
          "iopub.status.idle": "2023-07-27T07:32:50.589937Z",
          "shell.execute_reply": "2023-07-27T07:32:50.588866Z"
        },
        "papermill": {
          "duration": 8.355149,
          "end_time": "2023-07-27T07:32:50.592530",
          "exception": false,
          "start_time": "2023-07-27T07:32:42.237381",
          "status": "completed"
        },
        "tags": [],
        "id": "1f617626"
      },
      "outputs": [],
      "source": [
        "from transformers import AutoModelForSeq2SeqLM\n",
        "led = AutoModelForSeq2SeqLM.from_pretrained(\"allenai/longformer-base-4096\")"
      ]
    },
    {
      "cell_type": "code",
      "execution_count": null,
      "id": "7cb7e46b",
      "metadata": {
        "execution": {
          "iopub.execute_input": "2023-07-27T07:32:50.612357Z",
          "iopub.status.busy": "2023-07-27T07:32:50.611961Z",
          "iopub.status.idle": "2023-07-27T07:32:50.617780Z",
          "shell.execute_reply": "2023-07-27T07:32:50.616461Z"
        },
        "papermill": {
          "duration": 0.018286,
          "end_time": "2023-07-27T07:32:50.620009",
          "exception": false,
          "start_time": "2023-07-27T07:32:50.601723",
          "status": "completed"
        },
        "tags": [],
        "id": "7cb7e46b"
      },
      "outputs": [],
      "source": [
        "# set generate hyperparameters\n",
        "led.config.num_beams = 4\n",
        "led.config.max_length = 512\n",
        "led.config.min_length = 100\n",
        "led.config.length_penalty = 2.0\n",
        "led.config.early_stopping = True\n",
        "led.config.no_repeat_ngram_size = 3"
      ]
    },
    {
      "cell_type": "code",
      "execution_count": null,
      "id": "1e0fb1df",
      "metadata": {
        "execution": {
          "iopub.execute_input": "2023-07-27T07:32:50.638738Z",
          "iopub.status.busy": "2023-07-27T07:32:50.638392Z",
          "iopub.status.idle": "2023-07-27T07:32:50.661037Z",
          "shell.execute_reply": "2023-07-27T07:32:50.660078Z"
        },
        "papermill": {
          "duration": 0.034689,
          "end_time": "2023-07-27T07:32:50.663328",
          "exception": false,
          "start_time": "2023-07-27T07:32:50.628639",
          "status": "completed"
        },
        "tags": [],
        "id": "1e0fb1df"
      },
      "outputs": [],
      "source": [
        "from transformers import Seq2SeqTrainer, Seq2SeqTrainingArguments"
      ]
    },
    {
      "cell_type": "code",
      "execution_count": null,
      "id": "56d901d9",
      "metadata": {
        "execution": {
          "iopub.execute_input": "2023-07-27T07:32:50.682506Z",
          "iopub.status.busy": "2023-07-27T07:32:50.682190Z",
          "iopub.status.idle": "2023-07-27T07:32:50.769092Z",
          "shell.execute_reply": "2023-07-27T07:32:50.768093Z"
        },
        "papermill": {
          "duration": 0.0992,
          "end_time": "2023-07-27T07:32:50.771604",
          "exception": false,
          "start_time": "2023-07-27T07:32:50.672404",
          "status": "completed"
        },
        "tags": [],
        "id": "56d901d9"
      },
      "outputs": [],
      "source": [
        "# enable fp16 apex training\n",
        "training_args = Seq2SeqTrainingArguments(\n",
        "    predict_with_generate=True,\n",
        "    evaluation_strategy=\"epoch\",\n",
        "    save_strategy=\"epoch\",\n",
        "    per_device_train_batch_size=batch_size,\n",
        "    per_device_eval_batch_size=batch_size,\n",
        "\n",
        "    gradient_accumulation_steps=2,\n",
        "    # gradient_checkpointing=True,\n",
        "    fp16=True,\n",
        "    # optim=\"adafactor\",\n",
        "\n",
        "    output_dir=\"/kaggle/working/\",\n",
        "    save_total_limit=1,\n",
        "    num_train_epochs=1,\n",
        "    report_to=\"none\"\n",
        ")"
      ]
    },
    {
      "cell_type": "code",
      "execution_count": null,
      "id": "b1edaedb",
      "metadata": {
        "execution": {
          "iopub.execute_input": "2023-07-27T07:32:50.791411Z",
          "iopub.status.busy": "2023-07-27T07:32:50.790533Z",
          "iopub.status.idle": "2023-07-27T07:32:55.938575Z",
          "shell.execute_reply": "2023-07-27T07:32:55.937418Z"
        },
        "papermill": {
          "duration": 5.160746,
          "end_time": "2023-07-27T07:32:55.941123",
          "exception": false,
          "start_time": "2023-07-27T07:32:50.780377",
          "status": "completed"
        },
        "tags": [],
        "id": "b1edaedb"
      },
      "outputs": [],
      "source": [
        "trainer = Seq2SeqTrainer(\n",
        "    model=led,\n",
        "    tokenizer=tokenizer,\n",
        "    args=training_args,\n",
        "    compute_metrics=compute_metrics,\n",
        "    train_dataset=train_dataset,\n",
        "    eval_dataset=valid_dataset,\n",
        ")"
      ]
    },
    {
      "cell_type": "code",
      "execution_count": null,
      "id": "6955c72a",
      "metadata": {
        "execution": {
          "iopub.execute_input": "2023-07-27T07:32:55.961836Z",
          "iopub.status.busy": "2023-07-27T07:32:55.961494Z",
          "iopub.status.idle": "2023-07-27T10:46:04.208093Z",
          "shell.execute_reply": "2023-07-27T10:46:04.206883Z"
        },
        "papermill": {
          "duration": 11588.261542,
          "end_time": "2023-07-27T10:46:04.212692",
          "exception": false,
          "start_time": "2023-07-27T07:32:55.951150",
          "status": "completed"
        },
        "tags": [],
        "id": "6955c72a"
      },
      "outputs": [],
      "source": [
        "trainer.train()"
      ]
    },
    {
      "cell_type": "code",
      "execution_count": null,
      "id": "6cc4359f",
      "metadata": {
        "execution": {
          "iopub.execute_input": "2023-07-27T10:46:04.316915Z",
          "iopub.status.busy": "2023-07-27T10:46:04.312287Z",
          "iopub.status.idle": "2023-07-27T10:46:04.325347Z",
          "shell.execute_reply": "2023-07-27T10:46:04.324124Z"
        },
        "papermill": {
          "duration": 0.063532,
          "end_time": "2023-07-27T10:46:04.328406",
          "exception": false,
          "start_time": "2023-07-27T10:46:04.264874",
          "status": "completed"
        },
        "tags": [],
        "id": "6cc4359f"
      },
      "outputs": [],
      "source": [
        "# trainer.save_model(\"/kaggle/working/\")"
      ]
    },
    {
      "cell_type": "markdown",
      "id": "48e7888d",
      "metadata": {
        "papermill": {
          "duration": 0.052742,
          "end_time": "2023-07-27T10:46:04.430411",
          "exception": false,
          "start_time": "2023-07-27T10:46:04.377669",
          "status": "completed"
        },
        "tags": [],
        "id": "48e7888d"
      },
      "source": [
        "# Evaluation"
      ]
    },
    {
      "cell_type": "code",
      "execution_count": null,
      "id": "23533c35",
      "metadata": {
        "execution": {
          "iopub.execute_input": "2023-07-27T10:46:04.545652Z",
          "iopub.status.busy": "2023-07-27T10:46:04.543048Z",
          "iopub.status.idle": "2023-07-27T11:21:32.139325Z",
          "shell.execute_reply": "2023-07-27T11:21:32.138151Z"
        },
        "papermill": {
          "duration": 2127.685548,
          "end_time": "2023-07-27T11:21:32.166355",
          "exception": false,
          "start_time": "2023-07-27T10:46:04.480807",
          "status": "completed"
        },
        "tags": [],
        "id": "23533c35"
      },
      "outputs": [],
      "source": [
        "import torch\n",
        "\n",
        "json_data_files = {\n",
        "    \"test\": \"/kaggle/input/billsum-clean/ca_test_clean.jsonl\",\n",
        "}\n",
        "billsum = load_dataset(\"json\", data_files=json_data_files)\n",
        "test_dataset = billsum['test']\n",
        "# test_dataset = test_dataset.select(range(4))\n",
        "\n",
        "def generate_answer(batch):\n",
        "  inputs_dict = tokenizer([extractive_clean_text(doc) for doc in batch[\"clean_text\"]], padding=\"max_length\", max_length=max_input_length, return_tensors=\"pt\", truncation=True)\n",
        "  input_ids = inputs_dict.input_ids.to(\"cuda\")\n",
        "  attention_mask = inputs_dict.attention_mask.to(\"cuda\")\n",
        "  global_attention_mask = torch.zeros_like(attention_mask)\n",
        "  # put global attention on <s> token\n",
        "  global_attention_mask[:, 0] = 1\n",
        "\n",
        "  predicted_abstract_ids = led.generate(input_ids, attention_mask=attention_mask, global_attention_mask=global_attention_mask)\n",
        "  batch[\"predicted_summary\"] = tokenizer.batch_decode(predicted_abstract_ids, skip_special_tokens=True)\n",
        "  return batch\n",
        "\n",
        "test_dataset = test_dataset.map(generate_answer, batched=True, batch_size=8) # modified\n",
        "\n",
        "result = rouge.compute(predictions=test_dataset['predicted_summary'], references=test_dataset['clean_summary'], use_stemmer=True)\n",
        "import pprint\n",
        "pprint.pprint({k: round(v, 4) for k, v in result.items()})"
      ]
    },
    {
      "cell_type": "code",
      "execution_count": null,
      "id": "d1d8ad29",
      "metadata": {
        "papermill": {
          "duration": 0.009795,
          "end_time": "2023-07-27T11:21:32.189074",
          "exception": false,
          "start_time": "2023-07-27T11:21:32.179279",
          "status": "completed"
        },
        "tags": [],
        "id": "d1d8ad29"
      },
      "outputs": [],
      "source": []
    }
  ],
  "metadata": {
    "kernelspec": {
      "display_name": "Python 3",
      "language": "python",
      "name": "python3"
    },
    "language_info": {
      "codemirror_mode": {
        "name": "ipython",
        "version": 3
      },
      "file_extension": ".py",
      "mimetype": "text/x-python",
      "name": "python",
      "nbconvert_exporter": "python",
      "pygments_lexer": "ipython3",
      "version": "3.10.12"
    },
    "papermill": {
      "default_parameters": {},
      "duration": 13850.374974,
      "end_time": "2023-07-27T11:21:35.324733",
      "environment_variables": {},
      "exception": null,
      "input_path": "__notebook__.ipynb",
      "output_path": "__notebook__.ipynb",
      "parameters": {},
      "start_time": "2023-07-27T07:30:44.949759",
      "version": "2.4.0"
    },
    "colab": {
      "provenance": []
    }
  },
  "nbformat": 4,
  "nbformat_minor": 5
}